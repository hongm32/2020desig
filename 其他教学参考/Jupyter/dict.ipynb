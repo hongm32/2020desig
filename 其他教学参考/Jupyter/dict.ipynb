{
 "cells": [
  {
   "cell_type": "markdown",
   "metadata": {
    "collapsed": true,
    "pycharm": {
     "name": "#%% md\n"
    }
   },
   "source": [
    "# 字典Dict\n",
    "字典是Python中最重要的数据类型之一，字典是“键-值”(key-value)对组成的集合。\n",
    "字典在其他语言中被称为哈希映射。字典主要应用在需要高速查询的地方。"
   ]
  },
  {
   "cell_type": "markdown",
   "source": [
    "## 字典的创建\n",
    "字典由一系列“键-值”对组成，对之间用逗号隔开，并且被包含在一对大括号中。\n",
    "字典的“键”是不可变的，其类型可以是字符串、数字和元组。\n",
    "字典的“值”是可以改变的，可以是任意的数据。\n",
    "创建字典的格式为：\n",
    "dict = {key1: value1, key2: value2, key3: value3}\n",
    "其中，\n",
    "key1、key2等表示字典的“键(key)”，不允许重复；\n",
    "value1、value2等表示字典的“值(value)”"
   ],
   "metadata": {
    "collapsed": false,
    "pycharm": {
     "name": "#%% md\n"
    }
   }
  },
  {
   "cell_type": "code",
   "execution_count": 26,
   "outputs": [
    {
     "data": {
      "text/plain": "{'语文': 120, '数学': 130, '英语': 124, '信息': 92}"
     },
     "execution_count": 26,
     "metadata": {},
     "output_type": "execute_result"
    }
   ],
   "source": [
    "dict1 = {'语文': 120, '数学': 130, '英语': 124, '信息': 92}\n",
    "dict1"
   ],
   "metadata": {
    "collapsed": false,
    "pycharm": {
     "name": "#%%\n"
    }
   }
  },
  {
   "cell_type": "markdown",
   "source": [
    "## 字典的访问"
   ],
   "metadata": {
    "collapsed": false,
    "pycharm": {
     "name": "#%% md\n"
    }
   }
  },
  {
   "cell_type": "code",
   "execution_count": 27,
   "outputs": [
    {
     "data": {
      "text/plain": "92"
     },
     "execution_count": 27,
     "metadata": {},
     "output_type": "execute_result"
    }
   ],
   "source": [
    "# 访问\n",
    "# 法一：通过键获取相应的值\n",
    "# 键不存在时引发KeyError\n",
    "dict1['信息']"
   ],
   "metadata": {
    "collapsed": false,
    "pycharm": {
     "name": "#%%\n"
    }
   }
  },
  {
   "cell_type": "code",
   "execution_count": 28,
   "outputs": [
    {
     "data": {
      "text/plain": "'不存在'"
     },
     "execution_count": 28,
     "metadata": {},
     "output_type": "execute_result"
    }
   ],
   "source": [
    "# 字典的访问\n",
    "# 法二：通过get()\n",
    "# 键不存在时，返回default，默认None\n",
    "dict1.get('物理', \"不存在\")"
   ],
   "metadata": {
    "collapsed": false,
    "pycharm": {
     "name": "#%%\n"
    }
   }
  },
  {
   "cell_type": "code",
   "execution_count": 36,
   "outputs": [
    {
     "name": "stdout",
     "output_type": "stream",
     "text": [
      "语文 120\n",
      "数学 130\n",
      "英语 124\n",
      "信息 92\n",
      "物理 94\n"
     ]
    }
   ],
   "source": [
    "# 字典遍历\n",
    "for key, value in dict1.items():\n",
    "    print(key, value)"
   ],
   "metadata": {
    "collapsed": false,
    "pycharm": {
     "name": "#%%\n"
    }
   }
  },
  {
   "cell_type": "code",
   "execution_count": 29,
   "outputs": [],
   "source": [
    "# 字典的添加与修改\n",
    "# 使用赋值语句\n",
    "# 若键存在就修改，若键不存在就添加\n",
    "dict1['物理'] = 94\n",
    "dict1"
   ],
   "metadata": {
    "collapsed": false,
    "pycharm": {
     "name": "#%%\n"
    }
   }
  },
  {
   "cell_type": "markdown",
   "source": [
    "## 字典常用方法"
   ],
   "metadata": {
    "collapsed": false,
    "pycharm": {
     "name": "#%% md\n"
    }
   }
  },
  {
   "cell_type": "code",
   "execution_count": 30,
   "outputs": [
    {
     "name": "stdout",
     "output_type": "stream",
     "text": [
      "{'语文': 120, '数学': 130, '信息': 92}\n"
     ]
    },
    {
     "data": {
      "text/plain": "124"
     },
     "execution_count": 30,
     "metadata": {},
     "output_type": "execute_result"
    }
   ],
   "source": [
    "# 1.字典的删除\n",
    "# pop()\n",
    "# 删除字典给定键所对应值，返回被删除的值\n",
    "dict2 = {'语文': 120, '数学': 130, '英语': 124, '信息': 92}\n",
    "value = dict2.pop('英语')\n",
    "print(dict2)\n",
    "value"
   ],
   "metadata": {
    "collapsed": false,
    "pycharm": {
     "name": "#%%\n"
    }
   }
  },
  {
   "cell_type": "code",
   "execution_count": 31,
   "outputs": [
    {
     "data": {
      "text/plain": "{}"
     },
     "execution_count": 31,
     "metadata": {},
     "output_type": "execute_result"
    }
   ],
   "source": [
    "# 1.字典的删除\n",
    "# clear()\n",
    "# 删除字典内所有元素\n",
    "dict3 = {'语文': 120, '数学': 130, '英语': 124, '信息': 92}\n",
    "dict3.clear()\n",
    "dict3"
   ],
   "metadata": {
    "collapsed": false,
    "pycharm": {
     "name": "#%%\n"
    }
   }
  },
  {
   "cell_type": "code",
   "execution_count": 32,
   "outputs": [
    {
     "data": {
      "text/plain": "{'语文': 120, '英语': 124, '信息': 92}"
     },
     "execution_count": 32,
     "metadata": {},
     "output_type": "execute_result"
    }
   ],
   "source": [
    "# 1.字典的删除\n",
    "# del\n",
    "# 删除键所对应的值，若键未传入，则删除整个字典\n",
    "dict4 = {'语文': 120, '数学': 130, '英语': 124, '信息': 92}\n",
    "del dict4['数学']\n",
    "dict4"
   ],
   "metadata": {
    "collapsed": false,
    "pycharm": {
     "name": "#%%\n"
    }
   }
  },
  {
   "cell_type": "code",
   "execution_count": 33,
   "outputs": [
    {
     "data": {
      "text/plain": "{'name': '韩梅梅', 'age': 18, '语文': 120, '数学': 130, '英语': 124, '信息': 92}"
     },
     "execution_count": 33,
     "metadata": {},
     "output_type": "execute_result"
    }
   ],
   "source": [
    "# 2.字典的更新\n",
    "# update()\n",
    "# 从另一个字典更新成员\n",
    "# 存在就覆盖，不存在就创建\n",
    "dict5 = {'name': '韩梅梅', 'age': 18}\n",
    "dict6 = {'语文': 120, '数学': 130, '英语': 124, '信息': 92}\n",
    "dict5.update(dict6)\n",
    "dict5"
   ],
   "metadata": {
    "collapsed": false,
    "pycharm": {
     "name": "#%%\n"
    }
   }
  },
  {
   "cell_type": "code",
   "execution_count": 34,
   "outputs": [
    {
     "data": {
      "text/plain": "{'语文': 120, '数学': 130, '英语': 124, '信息': 92}"
     },
     "execution_count": 34,
     "metadata": {},
     "output_type": "execute_result"
    }
   ],
   "source": [
    "# 3.复制字典\n",
    "# copy()\n",
    "# 复制指定的字典\n",
    "dict7 = dict6.copy()\n",
    "dict7\n"
   ],
   "metadata": {
    "collapsed": false,
    "pycharm": {
     "name": "#%%\n"
    }
   }
  },
  {
   "cell_type": "markdown",
   "source": [
    "## 字典的一些技巧"
   ],
   "metadata": {
    "collapsed": false,
    "pycharm": {
     "name": "#%% md\n"
    }
   }
  },
  {
   "cell_type": "code",
   "execution_count": 35,
   "outputs": [
    {
     "data": {
      "text/plain": "{'新加坡': 'Singapore Rep.',\n '多米尼加': 'Dominican Rep.',\n '巴勒斯坦': 'Palestine',\n '巴哈马': 'Bahamas'}"
     },
     "execution_count": 35,
     "metadata": {},
     "output_type": "execute_result"
    }
   ],
   "source": [
    "# 键-值 翻转\n",
    "name_dict = {\n",
    "           'Singapore Rep.':'新加坡',\n",
    "           'Dominican Rep.':'多米尼加',\n",
    "           'Palestine':'巴勒斯坦',\n",
    "           'Bahamas':'巴哈马',\n",
    "    }\n",
    "new_name_dict = {value:key for key, value in name_dict.items()}\n",
    "new_name_dict"
   ],
   "metadata": {
    "collapsed": false,
    "pycharm": {
     "name": "#%%\n"
    }
   }
  },
  {
   "cell_type": "code",
   "execution_count": 37,
   "outputs": [
    {
     "name": "stdout",
     "output_type": "stream",
     "text": [
      "{'张伟': 9.36, '莉莉': 2.72, '小明': 6.51, '王刚': 2.98}\n",
      "9.36\n",
      "['张伟']\n",
      "[('张伟', 9.36), ('小明', 6.51), ('王刚', 2.98), ('莉莉', 2.72)]\n",
      "张伟\n"
     ]
    }
   ],
   "source": [
    "# 按值排序\n",
    "import random\n",
    "lst = [\"张伟\", \"莉莉\", \"小明\", \"王刚\"]\n",
    "# 使用生成器生成字典\n",
    "Dict = {key: round(random.uniform(1, 10), 2) for key in lst}\n",
    "print(Dict)\n",
    "# 求值最大值\n",
    "Max = max(Dict.values())\n",
    "print(Max)\n",
    "# 获取最大值对应的键列表\n",
    "List = [key for key, value in Dict.items() if value == Max]\n",
    "print(List)\n",
    "\n",
    "# key使用lambda匿名函数取value进行排序\n",
    "Temp = sorted(Dict.items(), key = lambda x: x[1], reverse = True)\n",
    "Dict1 = {key: value for key, value in Temp}\n",
    "print(Temp)\n",
    "print(Temp[0][0])\n"
   ],
   "metadata": {
    "collapsed": false,
    "pycharm": {
     "name": "#%%\n"
    }
   }
  }
 ],
 "metadata": {
  "kernelspec": {
   "display_name": "Python 3",
   "language": "python",
   "name": "python3"
  },
  "language_info": {
   "codemirror_mode": {
    "name": "ipython",
    "version": 2
   },
   "file_extension": ".py",
   "mimetype": "text/x-python",
   "name": "python",
   "nbconvert_exporter": "python",
   "pygments_lexer": "ipython2",
   "version": "2.7.6"
  }
 },
 "nbformat": 4,
 "nbformat_minor": 0
}