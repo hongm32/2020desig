{
 "cells": [
  {
   "cell_type": "code",
   "execution_count": 1,
   "metadata": {
    "collapsed": true,
    "pycharm": {
     "name": "#%%\n"
    }
   },
   "outputs": [
    {
     "name": "stdout",
     "output_type": "stream",
     "text": [
      "[1, 2, 3, 4, 5, 6, 7, 8, 9]\n",
      "[1, 2, 3, 4, 5, 6, 7, 8, 9]\n"
     ]
    }
   ],
   "source": [
    "# 已知这样的列表\n",
    "old_list = [[1, 2, 3], [4, 5], [6, 7, 8, 9]]\n",
    "# 要获得所有数字的列表，即\n",
    "# [1, 2, 3, 4, 5, 6, 7, 8, 9]\n",
    "\n",
    "# 方法1\n",
    "new_list = [i for j in range(len(old_list)) for i in old_list[j]]\n",
    "print(new_list)\n",
    "\n",
    "# 最简方法：\n",
    "new_list = sum(old_list, [])\n",
    "print(new_list)"
   ]
  },
  {
   "cell_type": "code",
   "execution_count": 2,
   "outputs": [
    {
     "name": "stdout",
     "output_type": "stream",
     "text": [
      "工资最高的员工是：张全蛋\n",
      "工资最低的员工是：伍六七\n"
     ]
    }
   ],
   "source": [
    "# 需求：求出以下工资最高和工资最低的员工\n",
    "user_dic = {\n",
    "    '赵铁柱': 3000,\n",
    "    '张全蛋': 20000,\n",
    "    '伍六七': 1500,\n",
    "    '李小花': 8000\n",
    "}\n",
    "s_max = max(user_dic, key=lambda x: user_dic[x])\n",
    "\"\"\"\n",
    "1.max内部会遍历user_dic，将遍历结果一一传给lambda的参数x\n",
    "2.依据lambda的返回值作为比较条件，得到最大条件下的那个遍历值\n",
    "3.对外返回最大的遍历值\n",
    "\"\"\"\n",
    "print(f\"工资最高的员工是：{s_max}\")\n",
    "s_min = min(user_dic, key=lambda x: user_dic[x])\n",
    "print(f\"工资最低的员工是：{s_min}\")  # 原理跟max 类似"
   ],
   "metadata": {
    "collapsed": false,
    "pycharm": {
     "name": "#%%\n"
    }
   }
  },
  {
   "cell_type": "code",
   "execution_count": 3,
   "outputs": [
    {
     "name": "stdout",
     "output_type": "stream",
     "text": [
      "[5, 9, -12, -21, 36]\n"
     ]
    }
   ],
   "source": [
    "# 对列表按照绝对值进行排序\n",
    "li = [-21, -12, 5, 9, 36]\n",
    "print(sorted(li, key=lambda x: abs(x)))\n"
   ],
   "metadata": {
    "collapsed": false,
    "pycharm": {
     "name": "#%%\n"
    }
   }
  },
  {
   "cell_type": "code",
   "execution_count": 4,
   "outputs": [
    {
     "name": "stdout",
     "output_type": "stream",
     "text": [
      "[('Jessie', 66), ('egon', 92), ('sean', 75), ('tank', 88)]\n",
      "[('egon', 92), ('tank', 88), ('sean', 75), ('Jessie', 66)]\n"
     ]
    }
   ],
   "source": [
    "# 假设我们用一组tuple表示学生名字和成绩：\n",
    "L = [('sean', 75), ('egon', 92), ('Jessie', 66), ('tank', 88)]\n",
    "# 1 请用sorted()对上述列表分别按名字排序\n",
    "print(sorted(L, key = lambda x : x[0]))\n",
    "\"\"\"\n",
    "1.sorted内部会遍历L，将遍历结果一一传给lambda的参数x\n",
    "2.依据lambda的返回值依次进行排序，得到排序后的list列表\n",
    "3.对外返回排序后的列表\n",
    "\"\"\"\n",
    "# 2 再按成绩从高到低排序\n",
    "print(sorted(L, key = lambda x : x[1], reverse=True))"
   ],
   "metadata": {
    "collapsed": false,
    "pycharm": {
     "name": "#%%\n"
    }
   }
  },
  {
   "cell_type": "code",
   "execution_count": 5,
   "outputs": [
    {
     "name": "stdout",
     "output_type": "stream",
     "text": [
      "<filter object at 0x000001EE287C8288>\n",
      "['3C', '4C']\n",
      "()\n"
     ]
    }
   ],
   "source": [
    "# 求列表['1A','2A','3C','4C','5A']中，返回不包含A的列表\n",
    "key_list = ['1A','2A','3C','4C','5A']\n",
    "filter_obj = filter(lambda key:key.endswith('C'),key_list)\n",
    "print(filter_obj)  # 打印filter 对象 ---->\n",
    "print(list(filter_obj))  # 将filter 对象转换成列表展示\n",
    "print(tuple(filter_obj))  # 打印出空元组？ 对象\n",
    "# 这是因为filter对象本质是可迭代对象 。list(filter_obj) 或 for num in filter_obj 这样的语句，\n",
    "# 就是调用了迭代器，执行了__ next __(),消耗了迭代对象。所以，再次使用map_obj后，会发现它已经空了。"
   ],
   "metadata": {
    "collapsed": false,
    "pycharm": {
     "name": "#%%\n"
    }
   }
  },
  {
   "cell_type": "code",
   "execution_count": 6,
   "outputs": [
    {
     "name": "stdout",
     "output_type": "stream",
     "text": [
      "神奇算式共有 12 个\n",
      "['3×501=1503', '3×510=1530', '6×201=1206', '6×210=1260', '8×473=3784', '9×351=3159', '15×93=1395', '21×60=1260', '21×87=1827', '27×81=2187', '30×51=1530', '35×41=1435']\n"
     ]
    }
   ],
   "source": [
    "# 标题:神奇算式\n",
    "# 由4个不同的数字,组成的一个乘法算式,它们的乘积仍然由这4个数字组成。\n",
    "# 比如:\n",
    "#  210×6=1260\n",
    "#  8×473=3784\n",
    "#  27×81=2187\n",
    "# 都符合要求。\n",
    "# 如果满足乘法交换律的算式算作同一种情况，那么,包含上边已列出的3种情况,一共有多少种满足要求的算式。\n",
    "# 请填写该数字,通过浏览器提交答案,不要填写多余内容(例如:列出所有算式)。\n",
    "\n",
    "magic_formula = []\n",
    "for i in range(1, 1000):\n",
    "    for j in range(i+1, 1000):\n",
    "        total = i * j\n",
    "        if 1000 <= total <= 9999 :\n",
    "            list1 = [x for x in str(i)] + [x for x in str(j)]\n",
    "            list2 = [x for x in str(total)]\n",
    "            list1.sort()\n",
    "            list2.sort()\n",
    "            if list1 == list2 and len(set(list1)) == 4 :\n",
    "                magic_formula.append(f\"{i}×{j}={total}\")\n",
    "print(f\"神奇算式共有 {len(magic_formula)} 个\")\n",
    "print(magic_formula)"
   ],
   "metadata": {
    "collapsed": false,
    "pycharm": {
     "name": "#%%\n"
    }
   }
  },
  {
   "cell_type": "code",
   "execution_count": 8,
   "outputs": [
    {
     "name": "stdout",
     "output_type": "stream",
     "text": [
      "14\n"
     ]
    }
   ],
   "source": [
    "# 查找被删的ID\n",
    "l1 = [12, 13, 14, 15]\n",
    "l2 = [13, 15, 12]\n",
    "\n",
    "target = 0\n",
    "for i in l1:\n",
    "    target = target ^ i\n",
    "for i in l2:\n",
    "    target = target ^ i\n",
    "print(target)\n"
   ],
   "metadata": {
    "collapsed": false,
    "pycharm": {
     "name": "#%%\n"
    }
   }
  }
 ],
 "metadata": {
  "kernelspec": {
   "display_name": "Python 3",
   "language": "python",
   "name": "python3"
  },
  "language_info": {
   "codemirror_mode": {
    "name": "ipython",
    "version": 2
   },
   "file_extension": ".py",
   "mimetype": "text/x-python",
   "name": "python",
   "nbconvert_exporter": "python",
   "pygments_lexer": "ipython2",
   "version": "2.7.6"
  }
 },
 "nbformat": 4,
 "nbformat_minor": 0
}