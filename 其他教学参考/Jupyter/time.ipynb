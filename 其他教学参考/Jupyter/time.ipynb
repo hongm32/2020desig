{
 "cells": [
  {
   "cell_type": "markdown",
   "metadata": {
    "collapsed": true,
    "pycharm": {
     "name": "#%% md\n"
    }
   },
   "source": [
    "# time模块\n",
    "有以下三种表示时间的方式：\n",
    "    * 时间戳\n",
    "    * 结构化时间\n",
    "    * 字符串时间"
   ]
  },
  {
   "cell_type": "code",
   "source": [
    "import time"
   ],
   "metadata": {
    "collapsed": false,
    "pycharm": {
     "name": "#%%\n"
    }
   },
   "execution_count": 4,
   "outputs": []
  },
  {
   "cell_type": "code",
   "source": [
    "# time()函数\n",
    "# 该函数用于返回当前时间的时间戳\n",
    "time.time()"
   ],
   "metadata": {
    "collapsed": false,
    "pycharm": {
     "name": "#%%\n"
    }
   },
   "execution_count": 5,
   "outputs": [
    {
     "data": {
      "text/plain": "1608017222.5513334"
     },
     "execution_count": 5,
     "metadata": {},
     "output_type": "execute_result"
    }
   ]
  },
  {
   "cell_type": "code",
   "execution_count": 6,
   "outputs": [
    {
     "data": {
      "text/plain": "time.struct_time(tm_year=2020, tm_mon=12, tm_mday=15, tm_hour=15, tm_min=30, tm_sec=14, tm_wday=1, tm_yday=350, tm_isdst=0)"
     },
     "execution_count": 6,
     "metadata": {},
     "output_type": "execute_result"
    }
   ],
   "source": [
    "# localtime([secs])\n",
    "# 该函数的作用是格式化时间戳为本地结构化时间\n",
    "# 可选参数secs指转换为结构化时间的秒数，如果未传入，则转换当前时间\n",
    "time.localtime()"
   ],
   "metadata": {
    "collapsed": false,
    "pycharm": {
     "name": "#%%\n"
    }
   }
  },
  {
   "cell_type": "code",
   "execution_count": 7,
   "outputs": [
    {
     "data": {
      "text/plain": "time.struct_time(tm_year=2020, tm_mon=12, tm_mday=15, tm_hour=7, tm_min=34, tm_sec=17, tm_wday=1, tm_yday=350, tm_isdst=0)"
     },
     "execution_count": 7,
     "metadata": {},
     "output_type": "execute_result"
    }
   ],
   "source": [
    "# gmtime([secs])\n",
    "# 该函数用于将一个时间戳转换为UTC时区的结构化时间\n",
    "# 参数同localtime\n",
    "time.gmtime()"
   ],
   "metadata": {
    "collapsed": false,
    "pycharm": {
     "name": "#%%\n"
    }
   }
  },
  {
   "cell_type": "code",
   "execution_count": 11,
   "outputs": [
    {
     "data": {
      "text/plain": "1608017658.0"
     },
     "execution_count": 11,
     "metadata": {},
     "output_type": "execute_result"
    }
   ],
   "source": [
    "# mktime(t)\n",
    "# 该函数用于执行将结构化时间t转换为时间戳\n",
    "# 如果输入的值不是合法时间，将触发OverflowError或ValueError\n",
    "# 参数t是结构化时间或全汇合9个元素的元组\n",
    "# 返回值：返回一个浮点数\n",
    "time.mktime((2020, 12, 15, 15, 34, 18, 1, 350, 0))"
   ],
   "metadata": {
    "collapsed": false,
    "pycharm": {
     "name": "#%%\n"
    }
   }
  },
  {
   "cell_type": "code",
   "execution_count": 12,
   "outputs": [
    {
     "data": {
      "text/plain": "'Tue Dec 15 15:47:06 2020'"
     },
     "execution_count": 12,
     "metadata": {},
     "output_type": "execute_result"
    }
   ],
   "source": [
    "# asctime([t])\n",
    "# 该函数用于接收一个时间元组并返回一个可读的字符串格式时间\n",
    "# 参数t由完整的9位元组或由gmtime()、localtime()返回的时间元组，未输入则返回当前时间\n",
    "time.asctime()"
   ],
   "metadata": {
    "collapsed": false,
    "pycharm": {
     "name": "#%%\n"
    }
   }
  },
  {
   "cell_type": "code",
   "execution_count": 15,
   "outputs": [
    {
     "data": {
      "text/plain": "'Thu May 16 22:33:42 2019'"
     },
     "execution_count": 15,
     "metadata": {},
     "output_type": "execute_result"
    }
   ],
   "source": [
    "# ctime([secs])\n",
    "# 该函数用于把一个时间戳转换为时间元组\n",
    "# 可选参数secs是被转换的字符串表示的秒数，未传入返回当前时间\n",
    "time.ctime(1558017222.12)"
   ],
   "metadata": {
    "collapsed": false,
    "pycharm": {
     "name": "#%%\n"
    }
   }
  },
  {
   "cell_type": "code",
   "execution_count": null,
   "outputs": [],
   "source": [
    "# sleep(secs)\n",
    "# 该函数用于推迟调用纯种的运行，也即暂停时间\n",
    "# 参数secs是要暂停执行的秒数\n",
    "time.sleep(2)  # 暂停2秒"
   ],
   "metadata": {
    "collapsed": false,
    "pycharm": {
     "name": "#%%\n"
    }
   }
  }
 ],
 "metadata": {
  "kernelspec": {
   "display_name": "Python 3",
   "language": "python",
   "name": "python3"
  },
  "language_info": {
   "codemirror_mode": {
    "name": "ipython",
    "version": 2
   },
   "file_extension": ".py",
   "mimetype": "text/x-python",
   "name": "python",
   "nbconvert_exporter": "python",
   "pygments_lexer": "ipython2",
   "version": "2.7.6"
  }
 },
 "nbformat": 4,
 "nbformat_minor": 0
}