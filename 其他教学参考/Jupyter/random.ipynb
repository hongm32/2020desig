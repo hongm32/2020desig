{
 "cells": [
  {
   "cell_type": "markdown",
   "source": [
    "# random库用于生成随机数\n",
    "* 基本随机数函数\n",
    "    - seed()\n",
    "    - random()\n",
    "* 扩展随机数函数\n",
    "    - randint()\n",
    "    - getrandbits()\n",
    "    - uniform()\n",
    "    - randrange()\n",
    "    - choice()\n",
    "    - shuffle()\n"
   ],
   "metadata": {
    "collapsed": false
   }
  },
  {
   "cell_type": "code",
   "execution_count": 1,
   "outputs": [],
   "source": [
    "import random\n"
   ],
   "metadata": {
    "collapsed": false,
    "pycharm": {
     "name": "#%%\n"
    }
   }
  },
  {
   "cell_type": "code",
   "execution_count": 2,
   "outputs": [],
   "source": [
    "# seed(a=None)\n",
    "# 初始化给定的随机数种子，默认为当前系统时间\n",
    "random.seed(10)  # 产生种子10对应的序列"
   ],
   "metadata": {
    "collapsed": false,
    "pycharm": {
     "name": "#%%\n"
    }
   }
  },
  {
   "cell_type": "code",
   "execution_count": 4,
   "outputs": [
    {
     "data": {
      "text/plain": "0.4288890546751146"
     },
     "execution_count": 4,
     "metadata": {},
     "output_type": "execute_result"
    }
   ],
   "source": [
    "# random()\n",
    "# 生成一个[0.0, 1.0)之间的随机小数\n",
    "random.random()"
   ],
   "metadata": {
    "collapsed": false,
    "pycharm": {
     "name": "#%%\n"
    }
   }
  },
  {
   "cell_type": "code",
   "execution_count": 5,
   "outputs": [
    {
     "data": {
      "text/plain": "83"
     },
     "execution_count": 5,
     "metadata": {},
     "output_type": "execute_result"
    }
   ],
   "source": [
    "# randint(a, b)\n",
    "# 生成一个[a, b]之间的随机整数\n",
    "random.randint(10, 100)"
   ],
   "metadata": {
    "collapsed": false,
    "pycharm": {
     "name": "#%%\n"
    }
   }
  },
  {
   "cell_type": "code",
   "execution_count": 6,
   "outputs": [
    {
     "data": {
      "text/plain": "10"
     },
     "execution_count": 6,
     "metadata": {},
     "output_type": "execute_result"
    }
   ],
   "source": [
    "# randrange(m, n[, k])\n",
    "# 生成一个[m, n)之间以k为步长的随机整数\n",
    "random.randrange(10, 100, 10)\n",
    "# 相当于从[10, 20, 30, 40, ... 80, 90]序列中获取一个随机数"
   ],
   "metadata": {
    "collapsed": false,
    "pycharm": {
     "name": "#%%\n"
    }
   }
  },
  {
   "cell_type": "code",
   "execution_count": 8,
   "outputs": [
    {
     "data": {
      "text/plain": "53301"
     },
     "execution_count": 8,
     "metadata": {},
     "output_type": "execute_result"
    }
   ],
   "source": [
    "# getrandbits(k)\n",
    "# 生成一个k比特长的随机整数\n",
    "random.getrandbits(16)"
   ],
   "metadata": {
    "collapsed": false,
    "pycharm": {
     "name": "#%%\n"
    }
   }
  },
  {
   "cell_type": "code",
   "execution_count": 7,
   "outputs": [
    {
     "data": {
      "text/plain": "28.548840892555155"
     },
     "execution_count": 7,
     "metadata": {},
     "output_type": "execute_result"
    }
   ],
   "source": [
    "# uniform(a, b)\n",
    "# 生成一个[a, b]或[b, a]之间的随机小数，两个参数其中一个是上限，一个是下限。\n",
    "random.uniform(10, 100)"
   ],
   "metadata": {
    "collapsed": false,
    "pycharm": {
     "name": "#%%\n"
    }
   }
  },
  {
   "cell_type": "code",
   "execution_count": 9,
   "outputs": [
    {
     "data": {
      "text/plain": "8"
     },
     "execution_count": 9,
     "metadata": {},
     "output_type": "execute_result"
    }
   ],
   "source": [
    "# choice(seq)\n",
    "# 从序列seq中随机选择一个元素，其中参数seq可以是列表、元组、字符串\n",
    "random.choice([1, 2, 3, 4, 5, 6, 7, 8, 9])\n"
   ],
   "metadata": {
    "collapsed": false,
    "pycharm": {
     "name": "#%%\n"
    }
   }
  },
  {
   "cell_type": "code",
   "execution_count": 10,
   "outputs": [],
   "source": [
    "# shuffle(seq)\n",
    "# 将序列seq中元素随机排列，改变原序列，返回None\n",
    "s = [i for i in range(10)]\n",
    "random.shuffle(s)\n",
    "s"
   ],
   "metadata": {
    "collapsed": false,
    "pycharm": {
     "name": "#%%\n"
    }
   }
  },
  {
   "cell_type": "code",
   "execution_count": 11,
   "outputs": [
    {
     "data": {
      "text/plain": "[0, 6, 2, 4]"
     },
     "execution_count": 11,
     "metadata": {},
     "output_type": "execute_result"
    }
   ],
   "source": [
    "# sample(seq)\n",
    "# 从指定序列中随机获取指定长度的片断并随机排列, 不会修改原有序列\n",
    "s = [i for i in range(10)]\n",
    "random.sample(s, 4)"
   ],
   "metadata": {
    "collapsed": false,
    "pycharm": {
     "name": "#%%\n"
    }
   }
  }
 ],
 "metadata": {
  "kernelspec": {
   "display_name": "Python 3",
   "language": "python",
   "name": "python3"
  },
  "language_info": {
   "codemirror_mode": {
    "name": "ipython",
    "version": 2
   },
   "file_extension": ".py",
   "mimetype": "text/x-python",
   "name": "python",
   "nbconvert_exporter": "python",
   "pygments_lexer": "ipython2",
   "version": "2.7.6"
  }
 },
 "nbformat": 4,
 "nbformat_minor": 0
}